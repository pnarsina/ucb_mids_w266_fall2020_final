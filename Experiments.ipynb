{
 "cells": [
  {
   "cell_type": "code",
   "execution_count": 1,
   "metadata": {},
   "outputs": [],
   "source": [
    "%load_ext autoreload\n",
    "%autoreload\n",
    "import os, json\n",
    "from types import SimpleNamespace\n",
    "from experiment import run_model\n",
    "from eval import calculate_stats\n",
    "import pickle\n",
    "from datetime import datetime \n",
    "import torch\n",
    "from transformers import BertTokenizer\n",
    "from sklearn.metrics import classification_report\n",
    "from util.tools import load_config, configEncoder"
   ]
  },
  {
   "cell_type": "code",
   "execution_count": 2,
   "metadata": {},
   "outputs": [],
   "source": [
    "# device = torch.device(\"cuda\" if torch.cuda.is_available() else \"cpu\")\n",
    "device = \"cpu\""
   ]
  },
  {
   "cell_type": "code",
   "execution_count": 3,
   "metadata": {},
   "outputs": [
    {
     "data": {
      "text/plain": [
       "0.01"
      ]
     },
     "execution_count": 3,
     "metadata": {},
     "output_type": "execute_result"
    }
   ],
   "source": [
    "config_folder = \"config/\"\n",
    "config = load_config(config_folder)\n",
    "config.modelconfig.DROP_OUT"
   ]
  },
  {
   "cell_type": "code",
   "execution_count": 4,
   "metadata": {},
   "outputs": [
    {
     "name": "stderr",
     "output_type": "stream",
     "text": [
      "INFO:root:  Num examples = 1000\n",
      "INFO:root:  Batch size = 12\n",
      "INFO:root:  Num steps = 830\n"
     ]
    },
    {
     "name": "stdout",
     "output_type": "stream",
     "text": [
      "Looking for cached feature pickle file data_divided/train_features_128.pkl\n"
     ]
    },
    {
     "name": "stderr",
     "output_type": "stream",
     "text": [
      "Epoch:   0%|                                                                                    | 0/10 [00:00<?, ?it/s]"
     ]
    },
    {
     "data": {
      "application/vnd.jupyter.widget-view+json": {
       "model_id": "3b20700481d248c2836242c2c8c1c097",
       "version_major": 2,
       "version_minor": 0
      },
      "text/plain": [
       "HBox(children=(FloatProgress(value=0.0, description='Iteration', max=9.0, style=ProgressStyle(description_widt…"
      ]
     },
     "metadata": {},
     "output_type": "display_data"
    },
    {
     "name": "stderr",
     "output_type": "stream",
     "text": [
      "C:\\ProgramData\\Anaconda3\\lib\\site-packages\\torch\\optim\\lr_scheduler.py:131: UserWarning: Detected call of `lr_scheduler.step()` before `optimizer.step()`. In PyTorch 1.1.0 and later, you should call them in the opposite order: `optimizer.step()` before `lr_scheduler.step()`.  Failure to do this will result in PyTorch skipping the first value of the learning rate schedule. See more details at https://pytorch.org/docs/stable/optim.html#how-to-adjust-learning-rate\n",
      "  warnings.warn(\"Detected call of `lr_scheduler.step()` before `optimizer.step()`. \"\n",
      "C:\\prabhu\\edu\\code\\w266\\project_submission\\model\\MedClinical.py:132: UserWarning: To copy construct from a tensor, it is recommended to use sourceTensor.clone().detach() or sourceTensor.clone().detach().requires_grad_(True), rather than torch.tensor(sourceTensor).\n",
      "  return torch.tensor(final_value, requires_grad=True, device = self.device)\n",
      "Epoch:  10%|███████▌                                                                    | 1/10 [00:11<01:47, 11.92s/it]"
     ]
    },
    {
     "name": "stdout",
     "output_type": "stream",
     "text": [
      "\n",
      "so far epoch accuracy:  0.019\n"
     ]
    },
    {
     "data": {
      "application/vnd.jupyter.widget-view+json": {
       "model_id": "ffa11dae053a4c5292417f5cae1ef976",
       "version_major": 2,
       "version_minor": 0
      },
      "text/plain": [
       "HBox(children=(FloatProgress(value=0.0, description='Iteration', max=9.0, style=ProgressStyle(description_widt…"
      ]
     },
     "metadata": {},
     "output_type": "display_data"
    },
    {
     "name": "stderr",
     "output_type": "stream",
     "text": [
      "Epoch:  20%|███████████████▏                                                            | 2/10 [00:24<01:36, 12.04s/it]"
     ]
    },
    {
     "name": "stdout",
     "output_type": "stream",
     "text": [
      "\n"
     ]
    },
    {
     "data": {
      "application/vnd.jupyter.widget-view+json": {
       "model_id": "0ee00844221f431483c803fff8b8024c",
       "version_major": 2,
       "version_minor": 0
      },
      "text/plain": [
       "HBox(children=(FloatProgress(value=0.0, description='Iteration', max=9.0, style=ProgressStyle(description_widt…"
      ]
     },
     "metadata": {},
     "output_type": "display_data"
    },
    {
     "name": "stderr",
     "output_type": "stream",
     "text": [
      "Epoch:  30%|██████████████████████▊                                                     | 3/10 [00:36<01:25, 12.23s/it]"
     ]
    },
    {
     "name": "stdout",
     "output_type": "stream",
     "text": [
      "\n"
     ]
    },
    {
     "data": {
      "application/vnd.jupyter.widget-view+json": {
       "model_id": "4f535c1f873e4d61b96a6400a95a3d15",
       "version_major": 2,
       "version_minor": 0
      },
      "text/plain": [
       "HBox(children=(FloatProgress(value=0.0, description='Iteration', max=9.0, style=ProgressStyle(description_widt…"
      ]
     },
     "metadata": {},
     "output_type": "display_data"
    },
    {
     "name": "stderr",
     "output_type": "stream",
     "text": [
      "Epoch:  40%|██████████████████████████████▍                                             | 4/10 [00:49<01:13, 12.25s/it]"
     ]
    },
    {
     "name": "stdout",
     "output_type": "stream",
     "text": [
      "\n"
     ]
    },
    {
     "data": {
      "application/vnd.jupyter.widget-view+json": {
       "model_id": "cf40e86fbafe4f79a0137b4592d8543b",
       "version_major": 2,
       "version_minor": 0
      },
      "text/plain": [
       "HBox(children=(FloatProgress(value=0.0, description='Iteration', max=9.0, style=ProgressStyle(description_widt…"
      ]
     },
     "metadata": {},
     "output_type": "display_data"
    },
    {
     "name": "stderr",
     "output_type": "stream",
     "text": [
      "Epoch:  50%|██████████████████████████████████████                                      | 5/10 [01:01<01:01, 12.35s/it]"
     ]
    },
    {
     "name": "stdout",
     "output_type": "stream",
     "text": [
      "\n"
     ]
    },
    {
     "data": {
      "application/vnd.jupyter.widget-view+json": {
       "model_id": "18998ecb8d6743ec86615feaa14dc6e1",
       "version_major": 2,
       "version_minor": 0
      },
      "text/plain": [
       "HBox(children=(FloatProgress(value=0.0, description='Iteration', max=9.0, style=ProgressStyle(description_widt…"
      ]
     },
     "metadata": {},
     "output_type": "display_data"
    },
    {
     "name": "stderr",
     "output_type": "stream",
     "text": [
      "Epoch:  60%|█████████████████████████████████████████████▌                              | 6/10 [01:14<00:49, 12.45s/it]"
     ]
    },
    {
     "name": "stdout",
     "output_type": "stream",
     "text": [
      "\n",
      "so far epoch accuracy:  0.02\n"
     ]
    },
    {
     "data": {
      "application/vnd.jupyter.widget-view+json": {
       "model_id": "6afb78d10c3d47e8941d868b6eeb6503",
       "version_major": 2,
       "version_minor": 0
      },
      "text/plain": [
       "HBox(children=(FloatProgress(value=0.0, description='Iteration', max=9.0, style=ProgressStyle(description_widt…"
      ]
     },
     "metadata": {},
     "output_type": "display_data"
    },
    {
     "name": "stderr",
     "output_type": "stream",
     "text": [
      "Epoch:  70%|█████████████████████████████████████████████████████▏                      | 7/10 [01:27<00:37, 12.55s/it]"
     ]
    },
    {
     "name": "stdout",
     "output_type": "stream",
     "text": [
      "\n"
     ]
    },
    {
     "data": {
      "application/vnd.jupyter.widget-view+json": {
       "model_id": "0443c8e53ebd4cdbac005fa1a7b142df",
       "version_major": 2,
       "version_minor": 0
      },
      "text/plain": [
       "HBox(children=(FloatProgress(value=0.0, description='Iteration', max=9.0, style=ProgressStyle(description_widt…"
      ]
     },
     "metadata": {},
     "output_type": "display_data"
    },
    {
     "name": "stderr",
     "output_type": "stream",
     "text": [
      "Epoch:  80%|████████████████████████████████████████████████████████████▊               | 8/10 [01:39<00:25, 12.59s/it]"
     ]
    },
    {
     "name": "stdout",
     "output_type": "stream",
     "text": [
      "\n"
     ]
    },
    {
     "data": {
      "application/vnd.jupyter.widget-view+json": {
       "model_id": "8d1213ab55394a2caf7dc168a7cf1885",
       "version_major": 2,
       "version_minor": 0
      },
      "text/plain": [
       "HBox(children=(FloatProgress(value=0.0, description='Iteration', max=9.0, style=ProgressStyle(description_widt…"
      ]
     },
     "metadata": {},
     "output_type": "display_data"
    },
    {
     "name": "stderr",
     "output_type": "stream",
     "text": [
      "Epoch:  90%|████████████████████████████████████████████████████████████████████▍       | 9/10 [01:52<00:12, 12.68s/it]"
     ]
    },
    {
     "name": "stdout",
     "output_type": "stream",
     "text": [
      "\n"
     ]
    },
    {
     "data": {
      "application/vnd.jupyter.widget-view+json": {
       "model_id": "f365788600df4743ae86e44c8a8b70ff",
       "version_major": 2,
       "version_minor": 0
      },
      "text/plain": [
       "HBox(children=(FloatProgress(value=0.0, description='Iteration', max=9.0, style=ProgressStyle(description_widt…"
      ]
     },
     "metadata": {},
     "output_type": "display_data"
    },
    {
     "name": "stderr",
     "output_type": "stream",
     "text": [
      "Epoch: 100%|███████████████████████████████████████████████████████████████████████████| 10/10 [02:05<00:00, 12.58s/it]"
     ]
    },
    {
     "name": "stdout",
     "output_type": "stream",
     "text": [
      "\n",
      "Training complete\n",
      "Best val Acc: 0.020000\n"
     ]
    },
    {
     "name": "stderr",
     "output_type": "stream",
     "text": [
      "\n"
     ]
    },
    {
     "data": {
      "application/vnd.jupyter.widget-view+json": {
       "model_id": "0659de844f6e46848dfad2e1174903f2",
       "version_major": 2,
       "version_minor": 0
      },
      "text/plain": [
       "HBox(children=(FloatProgress(value=0.0, description='Evaluating', max=9.0, style=ProgressStyle(description_wid…"
      ]
     },
     "metadata": {},
     "output_type": "display_data"
    },
    {
     "name": "stderr",
     "output_type": "stream",
     "text": [
      "INFO:root:  Num examples = 500\n",
      "INFO:root:  Batch size = 12\n",
      "INFO:root:  Num steps = 410\n"
     ]
    },
    {
     "name": "stdout",
     "output_type": "stream",
     "text": [
      "\n",
      "Looking for cached feature pickle file data_divided/dev_features_128.pkl\n"
     ]
    },
    {
     "data": {
      "application/vnd.jupyter.widget-view+json": {
       "model_id": "dd7b09fa3c6240de96249c7e4f07aa2a",
       "version_major": 2,
       "version_minor": 0
      },
      "text/plain": [
       "HBox(children=(FloatProgress(value=0.0, description='Evaluating', max=9.0, style=ProgressStyle(description_wid…"
      ]
     },
     "metadata": {},
     "output_type": "display_data"
    },
    {
     "name": "stderr",
     "output_type": "stream",
     "text": [
      "INFO:root:  Num examples = 1000\n",
      "INFO:root:  Batch size = 12\n",
      "INFO:root:  Num steps = 830\n"
     ]
    },
    {
     "name": "stdout",
     "output_type": "stream",
     "text": [
      "\n",
      "Looking for cached feature pickle file data_divided/test_features_128.pkl\n"
     ]
    },
    {
     "data": {
      "application/vnd.jupyter.widget-view+json": {
       "model_id": "cb3b96775d534488a512ebbe75f47771",
       "version_major": 2,
       "version_minor": 0
      },
      "text/plain": [
       "HBox(children=(FloatProgress(value=0.0, description='Evaluating', max=84.0, style=ProgressStyle(description_wi…"
      ]
     },
     "metadata": {},
     "output_type": "display_data"
    },
    {
     "name": "stdout",
     "output_type": "stream",
     "text": [
      "\n"
     ]
    }
   ],
   "source": [
    "train_inputs, train_label_ids, train_preds, train_loss, dev_inputs, dev_label_ids, dev_loss, dev_preds,test_inputs, test_preds, \\\n",
    "test_labels, test_loss  = run_model(config, device)"
   ]
  },
  {
   "cell_type": "code",
   "execution_count": 5,
   "metadata": {},
   "outputs": [],
   "source": [
    "# train_inputs, train_label_ids, train_preds, train_loss, dev_inputs, dev_label_ids, dev_loss, dev_preds, test_preds, test_labels"
   ]
  },
  {
   "cell_type": "code",
   "execution_count": 7,
   "metadata": {},
   "outputs": [
    {
     "name": "stdout",
     "output_type": "stream",
     "text": [
      "              precision    recall  f1-score   support\n",
      "\n",
      "           0       0.06      0.27      0.09        44\n",
      "           1       0.10      0.79      0.18        53\n",
      "           2       0.00      0.00      0.00        50\n",
      "           3       0.00      0.00      0.00        55\n",
      "           4       0.00      0.00      0.00        10\n",
      "           5       0.00      0.00      0.00        57\n",
      "           6       0.00      0.00      0.00        46\n",
      "           7       0.08      0.03      0.04        33\n",
      "           8       0.71      0.17      0.27       652\n",
      "\n",
      "    accuracy                           0.17      1000\n",
      "   macro avg       0.11      0.14      0.07      1000\n",
      "weighted avg       0.48      0.17      0.19      1000\n",
      "\n"
     ]
    }
   ],
   "source": [
    "print(classification_report(test_labels,test_preds ))"
   ]
  },
  {
   "cell_type": "code",
   "execution_count": 8,
   "metadata": {},
   "outputs": [
    {
     "data": {
      "text/plain": [
       "((1000,), (1000,))"
      ]
     },
     "execution_count": 8,
     "metadata": {},
     "output_type": "execute_result"
    }
   ],
   "source": [
    "import numpy as np \n",
    "np.array(test_labels).shape, np.array(test_preds).shape"
   ]
  },
  {
   "cell_type": "code",
   "execution_count": 9,
   "metadata": {},
   "outputs": [
    {
     "name": "stdout",
     "output_type": "stream",
     "text": [
      "\n",
      " label: [8 0 8 8 0 8 8 8 8 6 8 6 8 8 1 3 8 8 8 0 8 1 5 8 8 6 3 1 8 8 8 8 8 1 8 8 8\n",
      " 8 4 8 8 8 8 0 1 8 5 8 3 8 8 7 8 8 6 8 8 3 5 8 8 8 8 5 8 8 8 2 2 8 1 6 6 3\n",
      " 8 8 2 8 5 8 8 8 8 4 8 8 8 8 8 8 8 5 8 8 5 8 7 8 8 3 8 8 8 8 8 8 8 8 8 8 3\n",
      " 7 8 8 5 8 6 8 8 8 8 2 5 8 8 2 3 8 5 3 5 5 3 8 8 8 0 8 8 2 1 8 8 8 4 8 2 8\n",
      " 2 8 7 8 1 8 8 8 1 8 8 2 5 2 8 8 8 3 8 8 3 8 8 8 7 8 8 7 8 8 8 8 6 8 6 8 8\n",
      " 8 8 6 8 8 6 7 8 8 8 8 8 8 8 3 8 8 6 7 8 2 8 8 8 8 5 8 8 8 8 8 3 8 8 5 8 8\n",
      " 8 8 7 8 8 8 3 8 8 8 0 8 2 8 8 8 8 0 8 7 5 8 8 2 6 8 1 8 5 8 8 1 8 8 8 8 8\n",
      " 3 8 8 7 8 8 8 8 8 8 8 8 8 0 0 1 8 8 7 5 8 8 8 1 8 3 8 0 8 8 8 0 3 1 8 8 8\n",
      " 4 8 8 8 8 8 8 8 8 8 1 8 8 8 8 8 8 0 2 8 8 8 8 1 8 8 8 3 8 8 0 8 8 8 8 6 7\n",
      " 6 8 0 8 8 8 6 8 4 5 8 5 8 8 8 8 8 8 6 8 3 1 7 8 8 8 8 8 8 8 8 8 8 8 2 8 8\n",
      " 8 5 8 7 8 8 0 8 8 8 8 1 8 3 8 8 8 3 8 6 8 8 8 8 8 8 8 8 3 3 8 8 8 8 2 8 5\n",
      " 8 8 0 8 0 8 1 8 8 8 8 5 8 8 1 8 8 7 1 8 1 7 8 2 8 8 3 0 8 6 8 8 6 8 5 1 8\n",
      " 8 3 8 3 8 8 0 8 7 7 3 8 8 8 8 8 8 7 4 8 5 8 5 8 8 1 8 5 8 0 8 8 8 5 8 8 8\n",
      " 8 8 8 6 1 6 0 8 6 0 8 0 6 8 1 6 8 8 8 8 3 8 2 8 8 3 2 8 8 8 8 1 8 8 1 0 8\n",
      " 8 8 8 8 8 8 0 8 2 5 8 8 8 8 6 1 8 8 8 8 8 7 8 8 5 8 8 8 8 8 8 0 8 8 5 8 8\n",
      " 8 8 2 8 8 8 8 8 3 8 8 8 8 1 7 1 2 8 8 8 8 8 2 4 6 8 8 8 0 8 8 8 8 5 8 8 8\n",
      " 8 0 2 8 8 8 3 8 8 8 8 8 8 8 8 0 8 1 7 1 8 2 4 8 8 8 8 8 8 8 8 2 8 8 8 5 8\n",
      " 8 8 8 0 8 8 8 8 8 5 8 8 0 8 6 8 6 8 8 3 5 2 0 8 8 5 8 7 7 2 0 5 8 8 1 8 8\n",
      " 8 2 8 8 8 8 7 8 8 8 2 8 8 3 8 8 8 8 2 8 1 1 8 8 8 1 3 6 8 3 8 1 8 8 8 8 1\n",
      " 8 2 8 5 8 8 6 8 1 8 5 8 8 8 5 8 8 8 1 8 8 8 8 8 2 8 8 3 8 5 2 8 8 8 8 0 8\n",
      " 8 3 8 5 1 1 7 6 1 1 8 3 8 8 7 8 3 8 8 8 8 8 8 5 3 8 8 8 8 8 8 8 3 8 8 1 8\n",
      " 1 8 8 8 8 0 8 2 2 8 4 6 8 8 0 8 1 3 8 6 8 8 8 8 8 2 8 3 8 7 6 8 8 8 8 8 5\n",
      " 5 8 8 8 8 0 3 8 8 8 8 8 8 6 8 6 2 0 8 8 3 8 8 8 8 8 8 8 8 1 2 1 8 8 8 8 8\n",
      " 8 8 2 8 7 8 8 8 8 3 5 8 8 8 6 8 8 6 8 8 8 0 1 3 5 7 5 0 5 8 5 3 6 2 8 8 8\n",
      " 8 8 8 8 2 7 2 2 2 8 5 8 8 8 8 8 8 2 8 3 0 8 3 8 2 8 6 8 8 2 8 8 8 8 8 3 8\n",
      " 8 8 8 6 8 6 4 8 8 8 5 8 8 7 3 8 8 5 1 6 8 8 8 8 8 8 8 8 2 8 8 8 8 8 8 5 6\n",
      " 8 1 0 2 8 8 6 8 8 8 8 8 8 8 8 8 8 8 0 5 8 8 5 8 8 3 8 3 5 8 8 8 0 8 8 8 8\n",
      " 8]\n",
      "\n",
      " preds: [1 0 8 1 1 0 3 0 4 1 0 1 0 1 8 1 0 1 8 1 4 1 1 1 1 1 1 1 1 0 4 8 1 1 8 4 4\n",
      " 4 0 1 4 0 8 8 1 4 1 8 1 1 4 1 2 8 1 8 1 1 1 8 0 0 4 1 1 4 1 1 1 1 1 0 1 1\n",
      " 1 0 1 1 1 1 4 4 1 0 0 4 8 1 0 8 1 1 1 4 0 4 7 4 4 1 4 8 4 0 0 4 0 8 4 8 7\n",
      " 1 0 0 0 1 1 4 1 1 1 1 8 1 1 1 1 8 0 8 8 1 1 0 1 4 1 2 4 1 1 4 4 4 1 1 1 4\n",
      " 1 8 0 4 1 8 1 0 1 4 8 8 1 0 4 4 0 1 0 0 8 1 4 4 1 0 4 1 1 4 4 4 1 1 1 8 1\n",
      " 0 4 1 0 4 0 0 8 1 7 0 1 1 0 1 1 0 1 1 1 1 7 4 1 8 1 0 1 1 4 4 1 2 0 8 1 4\n",
      " 8 4 1 4 8 4 1 1 4 0 8 0 1 8 8 8 4 1 7 0 1 0 4 1 1 1 8 0 1 1 0 1 0 8 1 1 8\n",
      " 1 7 0 8 4 0 0 4 4 8 0 4 1 1 1 1 0 8 0 1 4 1 1 8 8 1 0 0 8 0 8 0 1 1 1 0 4\n",
      " 0 8 0 8 2 0 4 0 1 8 1 1 8 8 8 7 1 1 1 0 4 4 0 1 0 1 0 8 2 4 1 2 4 0 4 1 1\n",
      " 0 0 0 1 0 4 1 8 1 1 8 0 1 4 5 0 8 4 1 1 1 8 0 1 4 1 4 4 7 4 0 1 4 8 1 0 1\n",
      " 0 1 1 0 4 1 1 8 0 0 4 1 0 1 1 1 0 1 2 1 2 1 1 1 0 8 1 1 1 1 1 4 0 4 1 0 0\n",
      " 3 8 8 4 0 1 1 0 0 7 0 1 4 1 1 1 3 2 1 4 8 0 1 1 8 5 1 1 1 1 4 4 1 4 8 1 4\n",
      " 0 1 8 1 4 1 1 8 1 1 1 1 0 1 8 1 8 0 0 0 8 4 1 1 1 1 4 8 1 0 4 0 4 0 5 3 1\n",
      " 1 4 4 8 1 8 0 0 1 8 3 1 1 4 1 1 1 3 8 0 1 1 1 4 1 8 1 1 8 4 1 1 8 0 8 0 4\n",
      " 4 0 4 4 1 0 1 8 8 1 3 1 4 1 1 1 4 1 1 7 0 1 1 0 1 1 1 0 1 3 0 1 1 4 8 8 4\n",
      " 0 8 1 0 8 8 4 1 0 0 0 0 0 1 8 0 1 8 4 4 0 5 1 0 8 1 4 8 0 1 1 8 8 1 4 1 0\n",
      " 5 1 1 0 1 1 1 1 1 8 0 0 1 4 8 8 0 1 1 1 0 1 0 4 0 8 8 4 8 1 1 1 8 0 4 1 4\n",
      " 4 0 1 0 8 8 0 0 0 1 1 0 8 3 1 0 2 8 1 1 8 1 1 5 1 1 1 0 1 1 1 1 4 0 8 4 4\n",
      " 0 1 8 4 4 0 0 3 0 0 1 0 0 1 0 1 8 4 8 4 1 1 4 1 8 1 1 1 0 1 4 1 4 4 0 0 1\n",
      " 1 1 8 8 4 1 0 8 1 1 1 4 8 4 1 4 8 1 1 0 4 3 8 1 8 8 1 1 8 1 1 4 0 4 8 1 0\n",
      " 2 1 4 8 1 1 1 1 1 0 8 1 1 0 0 0 8 0 1 4 4 4 2 1 0 4 4 1 0 1 1 8 1 4 4 4 0\n",
      " 0 1 1 1 1 1 1 1 1 0 0 1 1 0 1 1 1 1 1 0 0 0 4 0 1 1 0 1 0 8 1 8 4 7 1 1 0\n",
      " 1 0 1 4 4 0 1 0 1 0 0 1 1 1 7 0 1 0 4 8 1 4 1 1 0 4 1 1 1 1 1 1 1 4 0 4 8\n",
      " 8 2 1 8 0 1 8 4 4 1 1 4 3 8 1 4 8 1 0 0 4 8 1 1 0 1 1 8 1 1 1 1 1 1 0 0 8\n",
      " 8 2 0 8 1 8 1 1 1 1 1 8 8 8 8 0 4 1 4 1 1 0 1 0 1 8 0 0 8 1 1 8 2 3 8 1 4\n",
      " 4 2 0 0 0 1 0 4 4 0 1 1 1 0 1 0 1 1 1 1 8 2 1 0 1 8 4 1 1 0 1 4 1 0 1 0 1\n",
      " 8 1 1 1 4 0 1 0 4 4 1 2 1 1 1 1 0 0 1 8 8 4 0 2 1 8 8 1 8 4 1 0 1 4 8 4 1\n",
      " 4]\n"
     ]
    }
   ],
   "source": [
    "%autoreload\n",
    "test_mcc, test_f1_score, test_df_results,test_label_matches_df = calculate_stats(test_labels,test_preds )"
   ]
  },
  {
   "cell_type": "code",
   "execution_count": 10,
   "metadata": {},
   "outputs": [
    {
     "data": {
      "text/html": [
       "<div>\n",
       "<style scoped>\n",
       "    .dataframe tbody tr th:only-of-type {\n",
       "        vertical-align: middle;\n",
       "    }\n",
       "\n",
       "    .dataframe tbody tr th {\n",
       "        vertical-align: top;\n",
       "    }\n",
       "\n",
       "    .dataframe thead th {\n",
       "        text-align: right;\n",
       "    }\n",
       "</style>\n",
       "<table border=\"1\" class=\"dataframe\">\n",
       "  <thead>\n",
       "    <tr style=\"text-align: right;\">\n",
       "      <th></th>\n",
       "      <th></th>\n",
       "      <th>predicted</th>\n",
       "    </tr>\n",
       "    <tr>\n",
       "      <th>labels</th>\n",
       "      <th>matched</th>\n",
       "      <th></th>\n",
       "    </tr>\n",
       "  </thead>\n",
       "  <tbody>\n",
       "    <tr>\n",
       "      <th rowspan=\"2\" valign=\"top\">ADE-Drug</th>\n",
       "      <th>False</th>\n",
       "      <td>32</td>\n",
       "    </tr>\n",
       "    <tr>\n",
       "      <th>True</th>\n",
       "      <td>1</td>\n",
       "    </tr>\n",
       "    <tr>\n",
       "      <th>Dosage-Drug</th>\n",
       "      <th>False</th>\n",
       "      <td>46</td>\n",
       "    </tr>\n",
       "    <tr>\n",
       "      <th>Duration-Drug</th>\n",
       "      <th>False</th>\n",
       "      <td>10</td>\n",
       "    </tr>\n",
       "    <tr>\n",
       "      <th>Form-Drug</th>\n",
       "      <th>False</th>\n",
       "      <td>57</td>\n",
       "    </tr>\n",
       "    <tr>\n",
       "      <th>Frequency-Drug</th>\n",
       "      <th>False</th>\n",
       "      <td>55</td>\n",
       "    </tr>\n",
       "    <tr>\n",
       "      <th rowspan=\"2\" valign=\"top\">Reason-Drug</th>\n",
       "      <th>False</th>\n",
       "      <td>32</td>\n",
       "    </tr>\n",
       "    <tr>\n",
       "      <th>True</th>\n",
       "      <td>12</td>\n",
       "    </tr>\n",
       "    <tr>\n",
       "      <th rowspan=\"2\" valign=\"top\">Route-Drug</th>\n",
       "      <th>False</th>\n",
       "      <td>11</td>\n",
       "    </tr>\n",
       "    <tr>\n",
       "      <th>True</th>\n",
       "      <td>42</td>\n",
       "    </tr>\n",
       "    <tr>\n",
       "      <th>Strength-Drug</th>\n",
       "      <th>False</th>\n",
       "      <td>50</td>\n",
       "    </tr>\n",
       "    <tr>\n",
       "      <th rowspan=\"2\" valign=\"top\">no relation</th>\n",
       "      <th>False</th>\n",
       "      <td>542</td>\n",
       "    </tr>\n",
       "    <tr>\n",
       "      <th>True</th>\n",
       "      <td>110</td>\n",
       "    </tr>\n",
       "  </tbody>\n",
       "</table>\n",
       "</div>"
      ],
      "text/plain": [
       "                        predicted\n",
       "labels         matched           \n",
       "ADE-Drug       False           32\n",
       "               True             1\n",
       "Dosage-Drug    False           46\n",
       "Duration-Drug  False           10\n",
       "Form-Drug      False           57\n",
       "Frequency-Drug False           55\n",
       "Reason-Drug    False           32\n",
       "               True            12\n",
       "Route-Drug     False           11\n",
       "               True            42\n",
       "Strength-Drug  False           50\n",
       "no relation    False          542\n",
       "               True           110"
      ]
     },
     "execution_count": 10,
     "metadata": {},
     "output_type": "execute_result"
    }
   ],
   "source": [
    "test_label_matches_df"
   ]
  },
  {
   "cell_type": "markdown",
   "metadata": {},
   "source": [
    "##  Try with BERT Sequential configuration"
   ]
  },
  {
   "cell_type": "markdown",
   "metadata": {},
   "source": [
    "### Just change model from BIOR to BERT Sequence"
   ]
  },
  {
   "cell_type": "code",
   "execution_count": 10,
   "metadata": {},
   "outputs": [],
   "source": [
    "config.programsettings.MODEL_NAME = \"BERT_Sequence\"\n",
    "config.programsettings.DEBUG_PRINT = 0"
   ]
  },
  {
   "cell_type": "code",
   "execution_count": 11,
   "metadata": {},
   "outputs": [
    {
     "name": "stderr",
     "output_type": "stream",
     "text": [
      "INFO:root:  Num examples = 1000\n",
      "INFO:root:  Batch size = 12\n",
      "INFO:root:  Num steps = 830\n"
     ]
    },
    {
     "name": "stdout",
     "output_type": "stream",
     "text": [
      "Looking for cached feature pickle file data_divided/train_features_128.pkl\n"
     ]
    },
    {
     "name": "stderr",
     "output_type": "stream",
     "text": [
      "INFO:pytorch_pretrained_bert.file_utils:https://s3.amazonaws.com/models.huggingface.co/bert/bert-base-cased.tar.gz not found in cache, downloading to C:\\Users\\pnars\\AppData\\Local\\Temp\\tmp296y4phy\n",
      "100%|███████████████████████████████████████████████████████████████| 404400730/404400730 [00:38<00:00, 10546609.90B/s]\n",
      "INFO:pytorch_pretrained_bert.file_utils:copying C:\\Users\\pnars\\AppData\\Local\\Temp\\tmp296y4phy to cache at cache/a803ce83ca27fecf74c355673c434e51c265fb8a3e0e57ac62a80e38ba98d384.681017f415dfb33ec8d0e04fe51a619f3f01532ecea04edbfd48c5d160550d9c\n",
      "INFO:pytorch_pretrained_bert.file_utils:creating metadata file for cache/a803ce83ca27fecf74c355673c434e51c265fb8a3e0e57ac62a80e38ba98d384.681017f415dfb33ec8d0e04fe51a619f3f01532ecea04edbfd48c5d160550d9c\n",
      "INFO:pytorch_pretrained_bert.file_utils:removing temp file C:\\Users\\pnars\\AppData\\Local\\Temp\\tmp296y4phy\n",
      "INFO:pytorch_pretrained_bert.modeling:loading archive file https://s3.amazonaws.com/models.huggingface.co/bert/bert-base-cased.tar.gz from cache at cache/a803ce83ca27fecf74c355673c434e51c265fb8a3e0e57ac62a80e38ba98d384.681017f415dfb33ec8d0e04fe51a619f3f01532ecea04edbfd48c5d160550d9c\n",
      "INFO:pytorch_pretrained_bert.modeling:extracting archive file cache/a803ce83ca27fecf74c355673c434e51c265fb8a3e0e57ac62a80e38ba98d384.681017f415dfb33ec8d0e04fe51a619f3f01532ecea04edbfd48c5d160550d9c to temp dir C:\\Users\\pnars\\AppData\\Local\\Temp\\tmpwtnqmg6g\n",
      "INFO:pytorch_pretrained_bert.modeling:Model config {\n",
      "  \"attention_probs_dropout_prob\": 0.1,\n",
      "  \"hidden_act\": \"gelu\",\n",
      "  \"hidden_dropout_prob\": 0.1,\n",
      "  \"hidden_size\": 768,\n",
      "  \"initializer_range\": 0.02,\n",
      "  \"intermediate_size\": 3072,\n",
      "  \"max_position_embeddings\": 512,\n",
      "  \"num_attention_heads\": 12,\n",
      "  \"num_hidden_layers\": 12,\n",
      "  \"type_vocab_size\": 2,\n",
      "  \"vocab_size\": 28996\n",
      "}\n",
      "\n",
      "INFO:pytorch_pretrained_bert.modeling:Weights of BertForSequenceClassification not initialized from pretrained model: ['classifier.weight', 'classifier.bias']\n",
      "INFO:pytorch_pretrained_bert.modeling:Weights from pretrained model not used in BertForSequenceClassification: ['cls.predictions.bias', 'cls.predictions.transform.dense.weight', 'cls.predictions.transform.dense.bias', 'cls.predictions.decoder.weight', 'cls.seq_relationship.weight', 'cls.seq_relationship.bias', 'cls.predictions.transform.LayerNorm.weight', 'cls.predictions.transform.LayerNorm.bias']\n",
      "Epoch:   0%|                                                                                    | 0/10 [00:00<?, ?it/s]"
     ]
    },
    {
     "data": {
      "application/vnd.jupyter.widget-view+json": {
       "model_id": "f4df039dd19145c7a44fb8b287957a51",
       "version_major": 2,
       "version_minor": 0
      },
      "text/plain": [
       "HBox(children=(FloatProgress(value=0.0, description='Iteration', max=9.0, style=ProgressStyle(description_widt…"
      ]
     },
     "metadata": {},
     "output_type": "display_data"
    },
    {
     "name": "stderr",
     "output_type": "stream",
     "text": [
      "C:\\ProgramData\\Anaconda3\\lib\\site-packages\\torch\\optim\\lr_scheduler.py:131: UserWarning: Detected call of `lr_scheduler.step()` before `optimizer.step()`. In PyTorch 1.1.0 and later, you should call them in the opposite order: `optimizer.step()` before `lr_scheduler.step()`.  Failure to do this will result in PyTorch skipping the first value of the learning rate schedule. See more details at https://pytorch.org/docs/stable/optim.html#how-to-adjust-learning-rate\n",
      "  warnings.warn(\"Detected call of `lr_scheduler.step()` before `optimizer.step()`. \"\n",
      "Epoch:  10%|███████▌                                                                    | 1/10 [00:43<06:34, 43.89s/it]"
     ]
    },
    {
     "name": "stdout",
     "output_type": "stream",
     "text": [
      "\n",
      "so far epoch accuracy:  0.021\n"
     ]
    },
    {
     "data": {
      "application/vnd.jupyter.widget-view+json": {
       "model_id": "f15985e509f6468b85ba0f6819d44997",
       "version_major": 2,
       "version_minor": 0
      },
      "text/plain": [
       "HBox(children=(FloatProgress(value=0.0, description='Iteration', max=9.0, style=ProgressStyle(description_widt…"
      ]
     },
     "metadata": {},
     "output_type": "display_data"
    },
    {
     "name": "stderr",
     "output_type": "stream",
     "text": [
      "Epoch:  20%|███████████████▏                                                            | 2/10 [01:27<05:50, 43.77s/it]"
     ]
    },
    {
     "name": "stdout",
     "output_type": "stream",
     "text": [
      "\n"
     ]
    },
    {
     "data": {
      "application/vnd.jupyter.widget-view+json": {
       "model_id": "1016424b5f744d5fa6772ce32065a6da",
       "version_major": 2,
       "version_minor": 0
      },
      "text/plain": [
       "HBox(children=(FloatProgress(value=0.0, description='Iteration', max=9.0, style=ProgressStyle(description_widt…"
      ]
     },
     "metadata": {},
     "output_type": "display_data"
    },
    {
     "name": "stderr",
     "output_type": "stream",
     "text": [
      "Epoch:  30%|██████████████████████▊                                                     | 3/10 [02:11<05:07, 43.93s/it]"
     ]
    },
    {
     "name": "stdout",
     "output_type": "stream",
     "text": [
      "\n"
     ]
    },
    {
     "data": {
      "application/vnd.jupyter.widget-view+json": {
       "model_id": "cfe0db65c6ea4bc194a3d029f0696814",
       "version_major": 2,
       "version_minor": 0
      },
      "text/plain": [
       "HBox(children=(FloatProgress(value=0.0, description='Iteration', max=9.0, style=ProgressStyle(description_widt…"
      ]
     },
     "metadata": {},
     "output_type": "display_data"
    },
    {
     "name": "stderr",
     "output_type": "stream",
     "text": [
      "Epoch:  40%|██████████████████████████████▍                                             | 4/10 [02:56<04:24, 44.11s/it]"
     ]
    },
    {
     "name": "stdout",
     "output_type": "stream",
     "text": [
      "\n"
     ]
    },
    {
     "data": {
      "application/vnd.jupyter.widget-view+json": {
       "model_id": "804a29b8ab01459bbb98c79a4d84a301",
       "version_major": 2,
       "version_minor": 0
      },
      "text/plain": [
       "HBox(children=(FloatProgress(value=0.0, description='Iteration', max=9.0, style=ProgressStyle(description_widt…"
      ]
     },
     "metadata": {},
     "output_type": "display_data"
    },
    {
     "name": "stderr",
     "output_type": "stream",
     "text": [
      "Epoch:  50%|██████████████████████████████████████                                      | 5/10 [03:39<03:40, 44.00s/it]"
     ]
    },
    {
     "name": "stdout",
     "output_type": "stream",
     "text": [
      "\n"
     ]
    },
    {
     "data": {
      "application/vnd.jupyter.widget-view+json": {
       "model_id": "1b40fd46440b47159afef06c5d29d48b",
       "version_major": 2,
       "version_minor": 0
      },
      "text/plain": [
       "HBox(children=(FloatProgress(value=0.0, description='Iteration', max=9.0, style=ProgressStyle(description_widt…"
      ]
     },
     "metadata": {},
     "output_type": "display_data"
    },
    {
     "name": "stderr",
     "output_type": "stream",
     "text": [
      "Epoch:  60%|█████████████████████████████████████████████▌                              | 6/10 [04:24<02:56, 44.09s/it]"
     ]
    },
    {
     "name": "stdout",
     "output_type": "stream",
     "text": [
      "\n"
     ]
    },
    {
     "data": {
      "application/vnd.jupyter.widget-view+json": {
       "model_id": "07e92cda70a64123b69240ddc2d37b27",
       "version_major": 2,
       "version_minor": 0
      },
      "text/plain": [
       "HBox(children=(FloatProgress(value=0.0, description='Iteration', max=9.0, style=ProgressStyle(description_widt…"
      ]
     },
     "metadata": {},
     "output_type": "display_data"
    },
    {
     "name": "stderr",
     "output_type": "stream",
     "text": [
      "Epoch:  70%|█████████████████████████████████████████████████████▏                      | 7/10 [05:09<02:13, 44.39s/it]"
     ]
    },
    {
     "name": "stdout",
     "output_type": "stream",
     "text": [
      "\n"
     ]
    },
    {
     "data": {
      "application/vnd.jupyter.widget-view+json": {
       "model_id": "70c8dd3693fc4507b164eb6268646e7b",
       "version_major": 2,
       "version_minor": 0
      },
      "text/plain": [
       "HBox(children=(FloatProgress(value=0.0, description='Iteration', max=9.0, style=ProgressStyle(description_widt…"
      ]
     },
     "metadata": {},
     "output_type": "display_data"
    },
    {
     "name": "stderr",
     "output_type": "stream",
     "text": [
      "Epoch:  80%|████████████████████████████████████████████████████████████▊               | 8/10 [05:54<01:28, 44.46s/it]"
     ]
    },
    {
     "name": "stdout",
     "output_type": "stream",
     "text": [
      "\n"
     ]
    },
    {
     "data": {
      "application/vnd.jupyter.widget-view+json": {
       "model_id": "9b8ec3d0034d4890b116dc7c3cd6c950",
       "version_major": 2,
       "version_minor": 0
      },
      "text/plain": [
       "HBox(children=(FloatProgress(value=0.0, description='Iteration', max=9.0, style=ProgressStyle(description_widt…"
      ]
     },
     "metadata": {},
     "output_type": "display_data"
    },
    {
     "name": "stderr",
     "output_type": "stream",
     "text": [
      "Epoch:  90%|████████████████████████████████████████████████████████████████████▍       | 9/10 [06:38<00:44, 44.33s/it]"
     ]
    },
    {
     "name": "stdout",
     "output_type": "stream",
     "text": [
      "\n",
      "so far epoch accuracy:  0.023\n"
     ]
    },
    {
     "data": {
      "application/vnd.jupyter.widget-view+json": {
       "model_id": "80dc15c4bd404dacb01d6a0a1daa20bf",
       "version_major": 2,
       "version_minor": 0
      },
      "text/plain": [
       "HBox(children=(FloatProgress(value=0.0, description='Iteration', max=9.0, style=ProgressStyle(description_widt…"
      ]
     },
     "metadata": {},
     "output_type": "display_data"
    },
    {
     "name": "stderr",
     "output_type": "stream",
     "text": [
      "Epoch: 100%|███████████████████████████████████████████████████████████████████████████| 10/10 [07:22<00:00, 44.23s/it]"
     ]
    },
    {
     "name": "stdout",
     "output_type": "stream",
     "text": [
      "\n",
      "Training complete\n",
      "Best val Acc: 0.023000\n"
     ]
    },
    {
     "name": "stderr",
     "output_type": "stream",
     "text": [
      "\n"
     ]
    },
    {
     "data": {
      "application/vnd.jupyter.widget-view+json": {
       "model_id": "93e0a249e37d4363b237a61c9a4838a2",
       "version_major": 2,
       "version_minor": 0
      },
      "text/plain": [
       "HBox(children=(FloatProgress(value=0.0, description='Evaluating', max=9.0, style=ProgressStyle(description_wid…"
      ]
     },
     "metadata": {},
     "output_type": "display_data"
    },
    {
     "name": "stderr",
     "output_type": "stream",
     "text": [
      "INFO:root:  Num examples = 500\n",
      "INFO:root:  Batch size = 12\n",
      "INFO:root:  Num steps = 410\n"
     ]
    },
    {
     "name": "stdout",
     "output_type": "stream",
     "text": [
      "\n",
      "Looking for cached feature pickle file data_divided/dev_features_128.pkl\n"
     ]
    },
    {
     "data": {
      "application/vnd.jupyter.widget-view+json": {
       "model_id": "f3eadf3cc4d7414f9a62bd70993ba08b",
       "version_major": 2,
       "version_minor": 0
      },
      "text/plain": [
       "HBox(children=(FloatProgress(value=0.0, description='Evaluating', max=9.0, style=ProgressStyle(description_wid…"
      ]
     },
     "metadata": {},
     "output_type": "display_data"
    },
    {
     "name": "stderr",
     "output_type": "stream",
     "text": [
      "INFO:root:  Num examples = 1000\n",
      "INFO:root:  Batch size = 12\n",
      "INFO:root:  Num steps = 830\n"
     ]
    },
    {
     "name": "stdout",
     "output_type": "stream",
     "text": [
      "\n",
      "Looking for cached feature pickle file data_divided/test_features_128.pkl\n"
     ]
    },
    {
     "data": {
      "application/vnd.jupyter.widget-view+json": {
       "model_id": "1c3ec90237bf40809e4b1a26d15dd2f8",
       "version_major": 2,
       "version_minor": 0
      },
      "text/plain": [
       "HBox(children=(FloatProgress(value=0.0, description='Evaluating', max=84.0, style=ProgressStyle(description_wi…"
      ]
     },
     "metadata": {},
     "output_type": "display_data"
    },
    {
     "name": "stdout",
     "output_type": "stream",
     "text": [
      "\n"
     ]
    }
   ],
   "source": [
    "train_inputs, train_label_ids, train_preds, train_loss, dev_inputs, dev_label_ids, dev_loss, dev_preds,test_inputs, test_preds, \\\n",
    "test_labels, test_loss  = run_model(config, device)"
   ]
  },
  {
   "cell_type": "code",
   "execution_count": 12,
   "metadata": {},
   "outputs": [
    {
     "name": "stdout",
     "output_type": "stream",
     "text": [
      "\n",
      " label: [6 8 0 5 8 3 8 6 8 8 8 8 3 8 8 6 2 8 8 8 8 1 2 8 0 1 8 8 6 8 8 8 8 2 2 8 8\n",
      " 7 5 8 8 8 8 8 3 8 7 8 8 6 8 8 6 5 8 8 8 8 5 8 8 8 8 8 8 8 8 8 6 5 5 8 8 8\n",
      " 8 8 8 8 4 0 8 8 4 8 8 8 6 8 1 0 5 8 5 8 8 8 2 3 8 2 1 5 8 8 7 8 5 3 2 8 1\n",
      " 8 8 2 8 8 8 8 8 8 8 8 8 8 8 8 8 8 8 8 8 8 8 8 8 1 8 8 8 8 6 8 2 2 8 5 8 0\n",
      " 8 6 8 8 8 8 5 1 2 8 8 8 8 8 8 8 8 1 8 8 3 8 8 6 3 8 8 8 7 7 8 8 0 8 2 8 2\n",
      " 8 5 0 8 8 8 8 2 8 8 8 8 3 2 2 8 8 8 8 1 5 8 8 8 8 8 8 8 8 0 8 8 8 8 8 8 8\n",
      " 6 4 3 8 0 8 8 8 7 8 1 0 8 8 8 8 8 1 5 7 8 8 8 1 8 8 8 8 8 3 8 8 2 3 8 0 8\n",
      " 8 8 2 1 7 8 8 8 3 8 2 8 7 8 8 3 4 8 8 3 3 7 2 2 8 8 8 8 8 8 8 8 8 2 3 8 3\n",
      " 6 1 8 8 8 1 8 8 8 0 3 7 8 6 1 8 6 7 2 0 8 1 8 8 8 8 8 8 8 1 8 8 7 8 8 8 8\n",
      " 7 8 8 4 8 8 3 2 8 8 8 2 3 8 8 3 7 3 7 8 8 8 8 8 6 6 8 8 8 7 8 5 8 8 6 8 8\n",
      " 3 8 8 8 8 8 1 7 8 8 0 3 8 8 8 3 8 8 8 2 0 4 8 8 2 8 3 6 0 1 8 8 8 8 8 8 6\n",
      " 8 5 8 8 8 2 5 8 8 8 8 5 8 8 8 7 8 3 8 6 5 8 8 8 5 8 5 8 8 6 8 8 8 6 8 8 8\n",
      " 5 8 5 8 8 6 8 8 8 8 8 8 8 8 6 8 3 3 8 8 7 3 1 2 8 8 5 5 5 1 8 5 8 1 5 8 8\n",
      " 1 8 8 8 8 1 8 8 8 8 8 4 2 8 8 8 0 0 8 8 8 8 8 8 8 2 5 8 7 8 0 8 8 8 3 5 8\n",
      " 5 8 8 8 8 8 8 8 8 8 3 8 8 5 6 3 6 7 8 8 8 0 8 8 8 8 0 8 8 8 8 0 5 8 8 8 2\n",
      " 1 8 8 8 8 8 3 1 0 5 8 8 8 8 8 5 8 3 7 8 8 3 8 8 1 5 8 8 6 1 8 8 8 3 8 8 8\n",
      " 6 1 8 8 8 8 5 8 8 8 8 8 2 8 8 8 3 8 8 6 6 8 8 5 8 8 8 8 8 6 8 8 3 8 8 8 8\n",
      " 5 2 8 3 6 8 8 0 8 8 8 8 3 3 1 8 8 0 8 2 5 2 2 8 8 8 5 3 8 8 2 8 8 8 8 8 1\n",
      " 5 5 8 3 8 8 1 1 0 2 8 8 8 5 7 8 8 8 8 8 7 1 8 7 0 8 8 8 8 8 8 8 8 3 0 8 8\n",
      " 8 8 8 8 8 8 8 8 0 8 8 8 8 8 8 6 1 2 8 8 7 8 5 8 8 3 8 8 8 8 8 8 8 8 8 8 7\n",
      " 8 8 8 8 8 8 8 8 8 8 1 8 1 8 8 8 8 8 7 8 0 8 4 5 0 8 8 8 8 4 8 0 2 8 0 8 8\n",
      " 8 1 6 5 8 8 8 8 8 6 3 8 6 4 8 5 8 1 0 8 8 8 0 8 8 3 6 8 8 8 8 2 8 8 0 0 3\n",
      " 8 2 8 8 7 8 0 8 8 8 6 7 0 8 8 8 2 8 1 6 8 8 0 8 8 8 8 8 0 8 6 8 8 8 8 1 8\n",
      " 8 8 7 8 2 8 8 8 5 8 8 3 8 3 8 8 8 6 2 1 8 8 8 8 8 1 5 2 8 8 1 8 8 8 3 8 8\n",
      " 2 8 8 8 5 8 8 8 8 8 5 1 8 8 8 1 8 8 7 8 2 1 8 3 8 8 8 8 8 5 6 8 3 8 8 8 8\n",
      " 6 1 8 8 8 8 8 1 8 8 8 0 1 8 8 8 8 8 3 8 8 8 8 8 8 8 8 8 5 8 8 8 8 6 8 8 8\n",
      " 2 8 8 8 8 8 6 8 8 8 5 0 8 8 8 1 8 0 8 8 8 8 8 8 8 8 8 8 8 8 8 8 1 8 8 8 8\n",
      " 5]\n",
      "\n",
      " preds: [0 0 0 0 0 0 0 0 0 0 0 0 0 0 0 0 0 0 0 0 0 0 0 0 0 0 0 0 0 0 0 0 0 0 0 0 0\n",
      " 0 0 0 0 3 0 0 0 0 0 0 0 0 0 0 0 0 0 0 0 0 0 0 0 0 0 0 0 0 0 0 0 0 0 0 0 2\n",
      " 0 0 0 0 0 0 0 0 0 0 0 0 0 0 0 0 0 0 0 0 0 0 0 0 0 0 0 0 0 0 0 0 0 0 0 0 0\n",
      " 3 0 0 0 0 0 0 0 0 0 0 0 0 3 0 0 0 0 0 0 0 0 0 0 0 0 0 0 0 0 0 0 0 0 0 0 0\n",
      " 0 0 0 0 0 0 0 0 0 0 0 0 0 0 0 0 0 0 0 0 0 0 0 0 0 0 0 0 0 0 0 0 0 0 0 0 0\n",
      " 0 0 0 0 0 0 0 0 0 0 0 0 0 0 0 0 0 0 0 0 0 0 0 0 0 0 0 0 0 0 0 0 0 0 0 0 0\n",
      " 0 0 0 0 0 0 0 0 0 0 0 0 0 0 0 0 0 0 0 0 0 0 0 0 0 0 0 3 0 0 0 0 0 0 0 0 0\n",
      " 0 0 0 0 0 0 0 0 0 0 0 0 0 0 0 0 0 0 0 0 0 0 0 0 0 0 3 0 0 0 0 0 0 0 0 0 0\n",
      " 0 0 0 0 3 0 0 0 0 0 0 0 0 0 0 0 0 0 0 0 0 0 0 0 0 0 0 0 0 0 0 0 0 0 0 0 0\n",
      " 0 0 0 0 0 0 0 0 0 0 0 0 0 0 0 0 0 0 0 0 0 0 0 0 0 0 0 0 0 0 0 0 0 0 0 0 0\n",
      " 0 0 0 0 0 0 0 0 0 0 0 0 0 0 0 0 0 0 0 0 0 0 0 0 0 0 0 0 0 0 0 0 0 3 0 0 0\n",
      " 0 0 0 0 0 0 0 0 0 0 0 0 0 0 0 0 0 0 0 0 0 0 0 0 0 0 0 0 0 0 0 0 0 0 0 0 0\n",
      " 0 0 0 0 0 0 0 0 0 0 3 0 0 3 0 0 0 0 0 0 0 0 0 0 0 0 0 0 0 0 0 0 0 0 0 0 0\n",
      " 0 0 0 0 0 0 0 0 0 0 0 0 0 0 0 0 0 0 0 0 0 0 0 0 0 0 0 0 0 0 0 0 0 0 0 0 0\n",
      " 0 0 0 0 0 0 0 0 0 0 0 0 0 0 0 0 0 0 0 0 0 0 0 0 0 0 0 0 0 0 0 0 0 0 0 0 0\n",
      " 0 0 0 0 0 0 0 0 0 0 0 0 0 0 0 0 0 0 0 0 0 0 0 0 0 0 0 0 0 0 0 0 0 0 0 0 0\n",
      " 0 0 0 0 0 0 0 0 0 0 0 0 0 0 0 0 0 0 0 0 0 0 0 0 0 0 0 0 0 0 0 0 0 0 0 0 0\n",
      " 0 0 0 0 0 0 0 0 0 0 0 0 0 0 0 0 0 0 0 0 0 0 0 0 0 0 0 0 0 0 0 3 0 0 0 0 0\n",
      " 0 0 0 0 0 0 0 0 0 0 0 0 0 0 0 0 0 0 0 0 0 0 0 0 0 0 0 0 0 0 0 0 0 0 0 0 0\n",
      " 0 0 0 0 0 0 0 0 0 0 0 0 0 0 0 0 0 0 0 0 0 0 0 0 0 0 0 0 0 0 0 0 0 0 0 0 0\n",
      " 3 0 0 0 0 0 0 0 0 0 0 0 0 0 0 0 0 0 0 0 0 0 0 0 0 0 0 0 0 0 0 0 0 0 0 0 0\n",
      " 0 0 0 0 0 0 0 0 0 0 0 0 0 0 0 0 0 0 0 0 0 0 0 0 0 0 0 0 0 0 0 0 0 0 0 0 0\n",
      " 0 0 0 0 0 0 0 0 0 0 0 0 0 0 0 0 0 0 0 0 0 0 0 0 0 0 0 0 0 0 0 0 0 0 0 0 0\n",
      " 0 0 0 0 0 0 0 0 0 0 0 0 0 0 0 0 0 0 0 0 0 0 0 0 0 0 0 0 0 0 0 0 0 0 0 0 0\n",
      " 0 0 0 0 0 0 0 0 0 0 0 0 0 0 0 0 0 0 0 0 0 0 0 0 0 0 0 0 0 0 0 0 0 0 0 0 0\n",
      " 0 0 0 0 0 0 0 0 0 0 0 0 0 0 0 0 0 0 0 0 0 0 0 0 0 0 0 0 0 0 0 0 0 0 0 0 0\n",
      " 0 0 0 0 0 0 0 0 0 0 0 0 3 0 0 0 0 0 0 0 0 0 0 0 0 0 0 0 0 0 0 0 0 0 0 0 0\n",
      " 0]\n"
     ]
    }
   ],
   "source": [
    "test_mcc, test_f1_score, test_df_results,test_label_matches_df = calculate_stats(test_labels,test_preds )"
   ]
  },
  {
   "cell_type": "code",
   "execution_count": 13,
   "metadata": {},
   "outputs": [
    {
     "data": {
      "text/html": [
       "<div>\n",
       "<style scoped>\n",
       "    .dataframe tbody tr th:only-of-type {\n",
       "        vertical-align: middle;\n",
       "    }\n",
       "\n",
       "    .dataframe tbody tr th {\n",
       "        vertical-align: top;\n",
       "    }\n",
       "\n",
       "    .dataframe thead th {\n",
       "        text-align: right;\n",
       "    }\n",
       "</style>\n",
       "<table border=\"1\" class=\"dataframe\">\n",
       "  <thead>\n",
       "    <tr style=\"text-align: right;\">\n",
       "      <th></th>\n",
       "      <th></th>\n",
       "      <th>predicted</th>\n",
       "    </tr>\n",
       "    <tr>\n",
       "      <th>labels</th>\n",
       "      <th>matched</th>\n",
       "      <th></th>\n",
       "    </tr>\n",
       "  </thead>\n",
       "  <tbody>\n",
       "    <tr>\n",
       "      <th>ADE-Drug</th>\n",
       "      <th>False</th>\n",
       "      <td>33</td>\n",
       "    </tr>\n",
       "    <tr>\n",
       "      <th>Dosage-Drug</th>\n",
       "      <th>False</th>\n",
       "      <td>46</td>\n",
       "    </tr>\n",
       "    <tr>\n",
       "      <th>Duration-Drug</th>\n",
       "      <th>False</th>\n",
       "      <td>10</td>\n",
       "    </tr>\n",
       "    <tr>\n",
       "      <th>Form-Drug</th>\n",
       "      <th>False</th>\n",
       "      <td>57</td>\n",
       "    </tr>\n",
       "    <tr>\n",
       "      <th>Frequency-Drug</th>\n",
       "      <th>False</th>\n",
       "      <td>55</td>\n",
       "    </tr>\n",
       "    <tr>\n",
       "      <th>Reason-Drug</th>\n",
       "      <th>True</th>\n",
       "      <td>44</td>\n",
       "    </tr>\n",
       "    <tr>\n",
       "      <th>Route-Drug</th>\n",
       "      <th>False</th>\n",
       "      <td>53</td>\n",
       "    </tr>\n",
       "    <tr>\n",
       "      <th>Strength-Drug</th>\n",
       "      <th>False</th>\n",
       "      <td>50</td>\n",
       "    </tr>\n",
       "    <tr>\n",
       "      <th>no relation</th>\n",
       "      <th>False</th>\n",
       "      <td>652</td>\n",
       "    </tr>\n",
       "  </tbody>\n",
       "</table>\n",
       "</div>"
      ],
      "text/plain": [
       "                        predicted\n",
       "labels         matched           \n",
       "ADE-Drug       False           33\n",
       "Dosage-Drug    False           46\n",
       "Duration-Drug  False           10\n",
       "Form-Drug      False           57\n",
       "Frequency-Drug False           55\n",
       "Reason-Drug    True            44\n",
       "Route-Drug     False           53\n",
       "Strength-Drug  False           50\n",
       "no relation    False          652"
      ]
     },
     "execution_count": 13,
     "metadata": {},
     "output_type": "execute_result"
    }
   ],
   "source": [
    "test_label_matches_df"
   ]
  },
  {
   "cell_type": "code",
   "execution_count": 14,
   "metadata": {},
   "outputs": [
    {
     "name": "stdout",
     "output_type": "stream",
     "text": [
      "              precision    recall  f1-score   support\n",
      "\n",
      "           0       0.04      1.00      0.09        44\n",
      "           1       0.00      0.00      0.00        53\n",
      "           2       0.00      0.00      0.00        50\n",
      "           3       0.00      0.00      0.00        55\n",
      "           4       0.00      0.00      0.00        10\n",
      "           5       0.00      0.00      0.00        57\n",
      "           6       0.00      0.00      0.00        46\n",
      "           7       0.00      0.00      0.00        33\n",
      "           8       0.00      0.00      0.00       652\n",
      "\n",
      "    accuracy                           0.04      1000\n",
      "   macro avg       0.00      0.11      0.01      1000\n",
      "weighted avg       0.00      0.04      0.00      1000\n",
      "\n"
     ]
    },
    {
     "name": "stderr",
     "output_type": "stream",
     "text": [
      "C:\\ProgramData\\Anaconda3\\lib\\site-packages\\sklearn\\metrics\\_classification.py:1221: UndefinedMetricWarning: Precision and F-score are ill-defined and being set to 0.0 in labels with no predicted samples. Use `zero_division` parameter to control this behavior.\n",
      "  _warn_prf(average, modifier, msg_start, len(result))\n"
     ]
    }
   ],
   "source": [
    "print(classification_report(test_labels,test_preds))"
   ]
  },
  {
   "cell_type": "code",
   "execution_count": null,
   "metadata": {},
   "outputs": [],
   "source": []
  },
  {
   "cell_type": "code",
   "execution_count": null,
   "metadata": {},
   "outputs": [],
   "source": []
  }
 ],
 "metadata": {
  "kernelspec": {
   "display_name": "Python 3",
   "language": "python",
   "name": "python3"
  },
  "language_info": {
   "codemirror_mode": {
    "name": "ipython",
    "version": 3
   },
   "file_extension": ".py",
   "mimetype": "text/x-python",
   "name": "python",
   "nbconvert_exporter": "python",
   "pygments_lexer": "ipython3",
   "version": "3.8.3"
  }
 },
 "nbformat": 4,
 "nbformat_minor": 4
}
