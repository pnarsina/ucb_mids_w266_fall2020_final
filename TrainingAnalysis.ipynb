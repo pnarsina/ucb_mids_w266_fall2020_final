{
 "cells": [
  {
   "cell_type": "code",
   "execution_count": 2,
   "metadata": {},
   "outputs": [],
   "source": [
    "%reload_ext autoreload\n",
    "%autoreload\n",
    "%matplotlib inline\n",
    "import os, json,glob,sys,io\n",
    "from types import SimpleNamespace\n",
    "from experiment import run_model\n",
    "from eval import calculate_stats, eval_model\n",
    "import pickle\n",
    "from datetime import datetime \n",
    "import torch\n",
    "from torch import nn\n",
    "from transformers import BertTokenizer\n",
    "from model.MedClinical import Biobert_fc \n",
    "from sklearn.metrics import classification_report, f1_score\n",
    "from util.tools  import load_config\n",
    "from util.DataLoader  import *\n",
    "from pathlib import Path, PureWindowsPath, PurePosixPath\n",
    "import traceback\n",
    "from matplotlib import pyplot as plt\n",
    "import pandas as pd\n",
    "import numpy as np"
   ]
  },
  {
   "cell_type": "code",
   "execution_count": 3,
   "metadata": {},
   "outputs": [],
   "source": [
    "# device = torch.device(\"cuda\" if torch.cuda.is_available() else \"cpu\")\n",
    "device = \"cpu\""
   ]
  },
  {
   "cell_type": "code",
   "execution_count": 4,
   "metadata": {},
   "outputs": [],
   "source": [
    "config_folder = \"config/\"\n",
    "config = load_config(config_folder)"
   ]
  },
  {
   "cell_type": "code",
   "execution_count": 5,
   "metadata": {},
   "outputs": [
    {
     "name": "stdout",
     "output_type": "stream",
     "text": [
      "\n",
      " \n",
      " \n",
      "\n",
      "\n",
      " \n",
      " \n",
      "\n",
      "\n",
      " \n",
      " \n",
      "\n",
      "\n",
      " \n",
      " \n",
      "\n"
     ]
    },
    {
     "data": {
      "text/plain": [
       "<Figure size 864x432 with 0 Axes>"
      ]
     },
     "metadata": {},
     "output_type": "display_data"
    },
    {
     "data": {
      "text/plain": [
       "<Figure size 864x432 with 0 Axes>"
      ]
     },
     "metadata": {},
     "output_type": "display_data"
    },
    {
     "data": {
      "text/plain": [
       "<Figure size 864x432 with 0 Axes>"
      ]
     },
     "metadata": {},
     "output_type": "display_data"
    },
    {
     "data": {
      "text/plain": [
       "<Figure size 864x432 with 0 Axes>"
      ]
     },
     "metadata": {},
     "output_type": "display_data"
    }
   ],
   "source": [
    "models_folder_name = config.programsettings.OUTPUT_DIR\n",
    "data_folder = Path(models_folder_name)\n",
    "list_train_metrics = list(data_folder.glob('*.pkl'))\n",
    "num_labels = 9\n",
    "\n",
    "f1_score_list = []\n",
    "file_list = []\n",
    "for metrics_file in list_train_metrics:\n",
    "#    \n",
    "    if str(metrics_file).find('BioBERT_CNN_fc2020-12-04 01_29_20_732477_train_metrics_.pkl') > 0 or \\\n",
    "       str(metrics_file).find('BioBERT_CNN_fc2020-12-03 23_34_01_358676_train_metrics_.pkl') > 0 or \\\n",
    "       str(metrics_file).find('BioBERT_CNN_fc2020-12-04 11_39_46_216904_train_metrics_.pkl') > 0  or \\\n",
    "       str(metrics_file).find('BioBERT_CNN_fc2020-12-04 14_08_18_271394_train_metrics_.pkl') > 0:\n",
    "        file_list.append(metrics_file)\n",
    "        with open(metrics_file,\"rb\") as f:\n",
    "            train_metric = pickle.load(f)\n",
    "#             print(train_metric)\n",
    "\n",
    "        print(\"\\n \\n \\n\")\n",
    "        plt.figure(figsize=(12,6))\n",
    "        if (np.mean(np.array(train_metric)[:,1])) < 1300:\n",
    "            print('training metric file', metrics_file)\n",
    "            plt.plot(np.array(train_metric)[:,0], np.array(train_metric)[:,1])\n",
    "            plt.xlabel(\"epoch\")\n",
    "            plt.ylabel(\"loss\")\n",
    "#         plt.legend(file_list, loc='upper right')\n",
    "    "
   ]
  },
  {
   "cell_type": "code",
   "execution_count": 20,
   "metadata": {},
   "outputs": [
    {
     "name": "stdout",
     "output_type": "stream",
     "text": [
      "outputs\\re\\BioBERT_CNN_fc2020-12-03 08_07_22_975827_train_metrics_.pkl\n",
      "\n",
      " \n",
      " \n",
      "\n"
     ]
    },
    {
     "data": {
      "image/png": "[encoded data removed]",
      "text/plain": [
       "<Figure size 432x288 with 1 Axes>"
      ]
     },
     "metadata": {
      "needs_background": "light"
     },
     "output_type": "display_data"
    }
   ],
   "source": [
    "models_folder_name = config.programsettings.OUTPUT_DIR\n",
    "data_folder = Path(models_folder_name)\n",
    "list_train_metrics = list(data_folder.glob('*.pkl'))\n",
    "num_labels = 9\n",
    "\n",
    "f1_score_list = []\n",
    "file_list = []\n",
    "for metrics_file in list_train_metrics:\n",
    "    if str(metrics_file).find('BioBERT_CNN_fc2020-12-03 08_07_22_975827_train_metrics_') > 0:\n",
    "        file_list.append(metrics_file)\n",
    "        with open(metrics_file,\"rb\") as f:\n",
    "            train_metric = pickle.load(f)\n",
    "            print(metrics_file)\n",
    "#             print(\"\\n\",train_metric)\n",
    "\n",
    "        print(\"\\n \\n \\n\")\n",
    "#         plt.figure(figsize=(12,6))\n",
    "#         if ((np.mean(np.array(train_metric)[:,1])) >  3.42e8 and np.mean(np.array(train_metric)[:,1]) <  3.43e8):\n",
    "# #             print('training metric file', metrics_file)\n",
    "        plt.plot(np.array(train_metric)[:,0], np.array(train_metric)[:,1])\n",
    "        plt.xlabel(\"epoch\")\n",
    "        plt.ylabel(\"loss\")\n",
    "#         plt.legend(file_list, loc='upper right')\n",
    "    "
   ]
  },
  {
   "cell_type": "code",
   "execution_count": null,
   "metadata": {},
   "outputs": [],
   "source": []
  }
 ],
 "metadata": {
  "kernelspec": {
   "display_name": "Python 3",
   "language": "python",
   "name": "python3"
  },
  "language_info": {
   "codemirror_mode": {
    "name": "ipython",
    "version": 3
   },
   "file_extension": ".py",
   "mimetype": "text/x-python",
   "name": "python",
   "nbconvert_exporter": "python",
   "pygments_lexer": "ipython3",
   "version": "3.8.3"
  }
 },
 "nbformat": 4,
 "nbformat_minor": 4
}
